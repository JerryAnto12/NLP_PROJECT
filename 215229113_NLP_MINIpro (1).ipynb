{
 "cells": [
  {
   "cell_type": "code",
   "execution_count": 1,
   "id": "bae16ac7",
   "metadata": {
    "_cell_guid": "b1076dfc-b9ad-4769-8c92-a6c4dae69d19",
    "_uuid": "8f2839f25d086af736a60e9eeb907d3b93b6e0e5",
    "execution": {
     "iopub.execute_input": "2022-04-29T13:32:37.373619Z",
     "iopub.status.busy": "2022-04-29T13:32:37.372468Z",
     "iopub.status.idle": "2022-04-29T13:32:37.389395Z",
     "shell.execute_reply": "2022-04-29T13:32:37.388321Z"
    },
    "papermill": {
     "duration": 0.063429,
     "end_time": "2022-04-29T13:32:37.392301",
     "exception": false,
     "start_time": "2022-04-29T13:32:37.328872",
     "status": "completed"
    },
    "tags": []
   },
   "outputs": [],
   "source": [
    "# This Python 3 environment comes with many helpful analytics libraries installed\n",
    "# It is defined by the kaggle/python Docker image: https://github.com/kaggle/docker-python\n",
    "# For example, here's several helpful packages to load\n",
    "\n",
    "import numpy as np # linear algebra\n",
    "import pandas as pd # data processing, CSV file I/O (e.g. pd.read_csv)\n",
    "\n",
    "# Input data files are available in the read-only \"../input/\" directory\n",
    "# For example, running this (by clicking run or pressing Shift+Enter) will list all files under the input directory\n",
    "\n",
    "import os\n",
    "for dirname, _, filenames in os.walk('/kaggle/input'):\n",
    "    for filename in filenames:\n",
    "        print(os.path.join(dirname, filename))\n",
    "\n",
    "# You can write up to 20GB to the current directory (/kaggle/working/) that gets preserved as output when you create a version using \"Save & Run All\" \n",
    "# You can also write temporary files to /kaggle/temp/, but they won't be saved outside of the current session"
   ]
  },
  {
   "cell_type": "code",
   "execution_count": 2,
   "id": "68d2cbe7",
   "metadata": {
    "execution": {
     "iopub.execute_input": "2022-04-29T13:32:37.474998Z",
     "iopub.status.busy": "2022-04-29T13:32:37.474693Z",
     "iopub.status.idle": "2022-04-29T13:32:37.478305Z",
     "shell.execute_reply": "2022-04-29T13:32:37.477701Z"
    },
    "papermill": {
     "duration": 0.046778,
     "end_time": "2022-04-29T13:32:37.480088",
     "exception": false,
     "start_time": "2022-04-29T13:32:37.433310",
     "status": "completed"
    },
    "tags": []
   },
   "outputs": [],
   "source": [
    "import warnings\n",
    "warnings.filterwarnings(\"ignore\")"
   ]
  },
  {
   "cell_type": "code",
   "execution_count": 3,
   "id": "dc0aa30e",
   "metadata": {
    "execution": {
     "iopub.execute_input": "2022-04-29T13:32:37.564512Z",
     "iopub.status.busy": "2022-04-29T13:32:37.563724Z",
     "iopub.status.idle": "2022-04-29T13:32:37.634250Z",
     "shell.execute_reply": "2022-04-29T13:32:37.633291Z"
    },
    "papermill": {
     "duration": 0.115231,
     "end_time": "2022-04-29T13:32:37.636842",
     "exception": false,
     "start_time": "2022-04-29T13:32:37.521611",
     "status": "completed"
    },
    "tags": []
   },
   "outputs": [
    {
     "ename": "FileNotFoundError",
     "evalue": "[Errno 2] No such file or directory: '/kaggle/input/nlp-getting-started/train.csv'",
     "output_type": "error",
     "traceback": [
      "\u001b[1;31m---------------------------------------------------------------------------\u001b[0m",
      "\u001b[1;31mFileNotFoundError\u001b[0m                         Traceback (most recent call last)",
      "\u001b[1;32m<ipython-input-3-62f6f01f5bbe>\u001b[0m in \u001b[0;36m<module>\u001b[1;34m\u001b[0m\n\u001b[1;32m----> 1\u001b[1;33m \u001b[0mdf\u001b[0m \u001b[1;33m=\u001b[0m \u001b[0mpd\u001b[0m\u001b[1;33m.\u001b[0m\u001b[0mread_csv\u001b[0m\u001b[1;33m(\u001b[0m\u001b[1;34m\"/kaggle/input/nlp-getting-started/train.csv\"\u001b[0m\u001b[1;33m)\u001b[0m\u001b[1;33m\u001b[0m\u001b[1;33m\u001b[0m\u001b[0m\n\u001b[0m\u001b[0;32m      2\u001b[0m \u001b[0mdf\u001b[0m\u001b[1;33m.\u001b[0m\u001b[0mhead\u001b[0m\u001b[1;33m(\u001b[0m\u001b[1;36m3\u001b[0m\u001b[1;33m)\u001b[0m\u001b[1;33m\u001b[0m\u001b[1;33m\u001b[0m\u001b[0m\n",
      "\u001b[1;32m~\\anaconda3\\lib\\site-packages\\pandas\\util\\_decorators.py\u001b[0m in \u001b[0;36mwrapper\u001b[1;34m(*args, **kwargs)\u001b[0m\n\u001b[0;32m    309\u001b[0m                     \u001b[0mstacklevel\u001b[0m\u001b[1;33m=\u001b[0m\u001b[0mstacklevel\u001b[0m\u001b[1;33m,\u001b[0m\u001b[1;33m\u001b[0m\u001b[1;33m\u001b[0m\u001b[0m\n\u001b[0;32m    310\u001b[0m                 )\n\u001b[1;32m--> 311\u001b[1;33m             \u001b[1;32mreturn\u001b[0m \u001b[0mfunc\u001b[0m\u001b[1;33m(\u001b[0m\u001b[1;33m*\u001b[0m\u001b[0margs\u001b[0m\u001b[1;33m,\u001b[0m \u001b[1;33m**\u001b[0m\u001b[0mkwargs\u001b[0m\u001b[1;33m)\u001b[0m\u001b[1;33m\u001b[0m\u001b[1;33m\u001b[0m\u001b[0m\n\u001b[0m\u001b[0;32m    312\u001b[0m \u001b[1;33m\u001b[0m\u001b[0m\n\u001b[0;32m    313\u001b[0m         \u001b[1;32mreturn\u001b[0m \u001b[0mwrapper\u001b[0m\u001b[1;33m\u001b[0m\u001b[1;33m\u001b[0m\u001b[0m\n",
      "\u001b[1;32m~\\anaconda3\\lib\\site-packages\\pandas\\io\\parsers\\readers.py\u001b[0m in \u001b[0;36mread_csv\u001b[1;34m(filepath_or_buffer, sep, delimiter, header, names, index_col, usecols, squeeze, prefix, mangle_dupe_cols, dtype, engine, converters, true_values, false_values, skipinitialspace, skiprows, skipfooter, nrows, na_values, keep_default_na, na_filter, verbose, skip_blank_lines, parse_dates, infer_datetime_format, keep_date_col, date_parser, dayfirst, cache_dates, iterator, chunksize, compression, thousands, decimal, lineterminator, quotechar, quoting, doublequote, escapechar, comment, encoding, encoding_errors, dialect, error_bad_lines, warn_bad_lines, on_bad_lines, delim_whitespace, low_memory, memory_map, float_precision, storage_options)\u001b[0m\n\u001b[0;32m    678\u001b[0m     \u001b[0mkwds\u001b[0m\u001b[1;33m.\u001b[0m\u001b[0mupdate\u001b[0m\u001b[1;33m(\u001b[0m\u001b[0mkwds_defaults\u001b[0m\u001b[1;33m)\u001b[0m\u001b[1;33m\u001b[0m\u001b[1;33m\u001b[0m\u001b[0m\n\u001b[0;32m    679\u001b[0m \u001b[1;33m\u001b[0m\u001b[0m\n\u001b[1;32m--> 680\u001b[1;33m     \u001b[1;32mreturn\u001b[0m \u001b[0m_read\u001b[0m\u001b[1;33m(\u001b[0m\u001b[0mfilepath_or_buffer\u001b[0m\u001b[1;33m,\u001b[0m \u001b[0mkwds\u001b[0m\u001b[1;33m)\u001b[0m\u001b[1;33m\u001b[0m\u001b[1;33m\u001b[0m\u001b[0m\n\u001b[0m\u001b[0;32m    681\u001b[0m \u001b[1;33m\u001b[0m\u001b[0m\n\u001b[0;32m    682\u001b[0m \u001b[1;33m\u001b[0m\u001b[0m\n",
      "\u001b[1;32m~\\anaconda3\\lib\\site-packages\\pandas\\io\\parsers\\readers.py\u001b[0m in \u001b[0;36m_read\u001b[1;34m(filepath_or_buffer, kwds)\u001b[0m\n\u001b[0;32m    573\u001b[0m \u001b[1;33m\u001b[0m\u001b[0m\n\u001b[0;32m    574\u001b[0m     \u001b[1;31m# Create the parser.\u001b[0m\u001b[1;33m\u001b[0m\u001b[1;33m\u001b[0m\u001b[1;33m\u001b[0m\u001b[0m\n\u001b[1;32m--> 575\u001b[1;33m     \u001b[0mparser\u001b[0m \u001b[1;33m=\u001b[0m \u001b[0mTextFileReader\u001b[0m\u001b[1;33m(\u001b[0m\u001b[0mfilepath_or_buffer\u001b[0m\u001b[1;33m,\u001b[0m \u001b[1;33m**\u001b[0m\u001b[0mkwds\u001b[0m\u001b[1;33m)\u001b[0m\u001b[1;33m\u001b[0m\u001b[1;33m\u001b[0m\u001b[0m\n\u001b[0m\u001b[0;32m    576\u001b[0m \u001b[1;33m\u001b[0m\u001b[0m\n\u001b[0;32m    577\u001b[0m     \u001b[1;32mif\u001b[0m \u001b[0mchunksize\u001b[0m \u001b[1;32mor\u001b[0m \u001b[0miterator\u001b[0m\u001b[1;33m:\u001b[0m\u001b[1;33m\u001b[0m\u001b[1;33m\u001b[0m\u001b[0m\n",
      "\u001b[1;32m~\\anaconda3\\lib\\site-packages\\pandas\\io\\parsers\\readers.py\u001b[0m in \u001b[0;36m__init__\u001b[1;34m(self, f, engine, **kwds)\u001b[0m\n\u001b[0;32m    931\u001b[0m \u001b[1;33m\u001b[0m\u001b[0m\n\u001b[0;32m    932\u001b[0m         \u001b[0mself\u001b[0m\u001b[1;33m.\u001b[0m\u001b[0mhandles\u001b[0m\u001b[1;33m:\u001b[0m \u001b[0mIOHandles\u001b[0m \u001b[1;33m|\u001b[0m \u001b[1;32mNone\u001b[0m \u001b[1;33m=\u001b[0m \u001b[1;32mNone\u001b[0m\u001b[1;33m\u001b[0m\u001b[1;33m\u001b[0m\u001b[0m\n\u001b[1;32m--> 933\u001b[1;33m         \u001b[0mself\u001b[0m\u001b[1;33m.\u001b[0m\u001b[0m_engine\u001b[0m \u001b[1;33m=\u001b[0m \u001b[0mself\u001b[0m\u001b[1;33m.\u001b[0m\u001b[0m_make_engine\u001b[0m\u001b[1;33m(\u001b[0m\u001b[0mf\u001b[0m\u001b[1;33m,\u001b[0m \u001b[0mself\u001b[0m\u001b[1;33m.\u001b[0m\u001b[0mengine\u001b[0m\u001b[1;33m)\u001b[0m\u001b[1;33m\u001b[0m\u001b[1;33m\u001b[0m\u001b[0m\n\u001b[0m\u001b[0;32m    934\u001b[0m \u001b[1;33m\u001b[0m\u001b[0m\n\u001b[0;32m    935\u001b[0m     \u001b[1;32mdef\u001b[0m \u001b[0mclose\u001b[0m\u001b[1;33m(\u001b[0m\u001b[0mself\u001b[0m\u001b[1;33m)\u001b[0m\u001b[1;33m:\u001b[0m\u001b[1;33m\u001b[0m\u001b[1;33m\u001b[0m\u001b[0m\n",
      "\u001b[1;32m~\\anaconda3\\lib\\site-packages\\pandas\\io\\parsers\\readers.py\u001b[0m in \u001b[0;36m_make_engine\u001b[1;34m(self, f, engine)\u001b[0m\n\u001b[0;32m   1215\u001b[0m             \u001b[1;31m# \"Union[str, PathLike[str], ReadCsvBuffer[bytes], ReadCsvBuffer[str]]\"\u001b[0m\u001b[1;33m\u001b[0m\u001b[1;33m\u001b[0m\u001b[1;33m\u001b[0m\u001b[0m\n\u001b[0;32m   1216\u001b[0m             \u001b[1;31m# , \"str\", \"bool\", \"Any\", \"Any\", \"Any\", \"Any\", \"Any\"\u001b[0m\u001b[1;33m\u001b[0m\u001b[1;33m\u001b[0m\u001b[1;33m\u001b[0m\u001b[0m\n\u001b[1;32m-> 1217\u001b[1;33m             self.handles = get_handle(  # type: ignore[call-overload]\n\u001b[0m\u001b[0;32m   1218\u001b[0m                 \u001b[0mf\u001b[0m\u001b[1;33m,\u001b[0m\u001b[1;33m\u001b[0m\u001b[1;33m\u001b[0m\u001b[0m\n\u001b[0;32m   1219\u001b[0m                 \u001b[0mmode\u001b[0m\u001b[1;33m,\u001b[0m\u001b[1;33m\u001b[0m\u001b[1;33m\u001b[0m\u001b[0m\n",
      "\u001b[1;32m~\\anaconda3\\lib\\site-packages\\pandas\\io\\common.py\u001b[0m in \u001b[0;36mget_handle\u001b[1;34m(path_or_buf, mode, encoding, compression, memory_map, is_text, errors, storage_options)\u001b[0m\n\u001b[0;32m    787\u001b[0m         \u001b[1;32mif\u001b[0m \u001b[0mioargs\u001b[0m\u001b[1;33m.\u001b[0m\u001b[0mencoding\u001b[0m \u001b[1;32mand\u001b[0m \u001b[1;34m\"b\"\u001b[0m \u001b[1;32mnot\u001b[0m \u001b[1;32min\u001b[0m \u001b[0mioargs\u001b[0m\u001b[1;33m.\u001b[0m\u001b[0mmode\u001b[0m\u001b[1;33m:\u001b[0m\u001b[1;33m\u001b[0m\u001b[1;33m\u001b[0m\u001b[0m\n\u001b[0;32m    788\u001b[0m             \u001b[1;31m# Encoding\u001b[0m\u001b[1;33m\u001b[0m\u001b[1;33m\u001b[0m\u001b[1;33m\u001b[0m\u001b[0m\n\u001b[1;32m--> 789\u001b[1;33m             handle = open(\n\u001b[0m\u001b[0;32m    790\u001b[0m                 \u001b[0mhandle\u001b[0m\u001b[1;33m,\u001b[0m\u001b[1;33m\u001b[0m\u001b[1;33m\u001b[0m\u001b[0m\n\u001b[0;32m    791\u001b[0m                 \u001b[0mioargs\u001b[0m\u001b[1;33m.\u001b[0m\u001b[0mmode\u001b[0m\u001b[1;33m,\u001b[0m\u001b[1;33m\u001b[0m\u001b[1;33m\u001b[0m\u001b[0m\n",
      "\u001b[1;31mFileNotFoundError\u001b[0m: [Errno 2] No such file or directory: '/kaggle/input/nlp-getting-started/train.csv'"
     ]
    }
   ],
   "source": [
    "df = pd.read_csv(\"/kaggle/input/nlp-getting-started/train.csv\")\n",
    "df.head(3)"
   ]
  },
  {
   "cell_type": "code",
   "execution_count": null,
   "id": "c46f1c18",
   "metadata": {
    "execution": {
     "iopub.execute_input": "2022-04-29T13:32:37.724381Z",
     "iopub.status.busy": "2022-04-29T13:32:37.724114Z",
     "iopub.status.idle": "2022-04-29T13:32:37.757275Z",
     "shell.execute_reply": "2022-04-29T13:32:37.756639Z"
    },
    "papermill": {
     "duration": 0.077764,
     "end_time": "2022-04-29T13:32:37.759280",
     "exception": false,
     "start_time": "2022-04-29T13:32:37.681516",
     "status": "completed"
    },
    "tags": []
   },
   "outputs": [],
   "source": [
    "df1 = pd.read_csv(\"/kaggle/input/nlp-getting-started/test.csv\")\n",
    "df1.head(3)"
   ]
  },
  {
   "cell_type": "code",
   "execution_count": 4,
   "id": "68c2d0af",
   "metadata": {
    "collapsed": true,
    "execution": {
     "iopub.execute_input": "2022-04-29T13:32:37.846056Z",
     "iopub.status.busy": "2022-04-29T13:32:37.845278Z",
     "iopub.status.idle": "2022-04-29T13:32:37.861098Z",
     "shell.execute_reply": "2022-04-29T13:32:37.860361Z"
    },
    "papermill": {
     "duration": 0.061911,
     "end_time": "2022-04-29T13:32:37.863356",
     "exception": false,
     "start_time": "2022-04-29T13:32:37.801445",
     "status": "completed"
    },
    "tags": []
   },
   "outputs": [
    {
     "ename": "NameError",
     "evalue": "name 'df' is not defined",
     "output_type": "error",
     "traceback": [
      "\u001b[1;31m---------------------------------------------------------------------------\u001b[0m",
      "\u001b[1;31mNameError\u001b[0m                                 Traceback (most recent call last)",
      "\u001b[1;32m<ipython-input-4-872658fcaeb1>\u001b[0m in \u001b[0;36m<module>\u001b[1;34m\u001b[0m\n\u001b[0;32m      1\u001b[0m \u001b[1;31m#making all the letters to lowercase\u001b[0m\u001b[1;33m\u001b[0m\u001b[1;33m\u001b[0m\u001b[1;33m\u001b[0m\u001b[0m\n\u001b[1;32m----> 2\u001b[1;33m \u001b[0mdf\u001b[0m\u001b[1;33m[\u001b[0m\u001b[1;34m\"text\"\u001b[0m\u001b[1;33m]\u001b[0m \u001b[1;33m=\u001b[0m \u001b[0mdf\u001b[0m\u001b[1;33m[\u001b[0m\u001b[1;34m\"text\"\u001b[0m\u001b[1;33m]\u001b[0m\u001b[1;33m.\u001b[0m\u001b[0mapply\u001b[0m\u001b[1;33m(\u001b[0m\u001b[1;32mlambda\u001b[0m \u001b[0mx\u001b[0m\u001b[1;33m:\u001b[0m \u001b[0mx\u001b[0m\u001b[1;33m.\u001b[0m\u001b[0mlower\u001b[0m\u001b[1;33m(\u001b[0m\u001b[1;33m)\u001b[0m\u001b[1;33m)\u001b[0m\u001b[1;33m\u001b[0m\u001b[1;33m\u001b[0m\u001b[0m\n\u001b[0m\u001b[0;32m      3\u001b[0m \u001b[0mdf1\u001b[0m\u001b[1;33m[\u001b[0m\u001b[1;34m\"text\"\u001b[0m\u001b[1;33m]\u001b[0m \u001b[1;33m=\u001b[0m \u001b[0mdf1\u001b[0m\u001b[1;33m[\u001b[0m\u001b[1;34m\"text\"\u001b[0m\u001b[1;33m]\u001b[0m\u001b[1;33m.\u001b[0m\u001b[0mapply\u001b[0m\u001b[1;33m(\u001b[0m\u001b[1;32mlambda\u001b[0m \u001b[0mx\u001b[0m\u001b[1;33m:\u001b[0m \u001b[0mx\u001b[0m\u001b[1;33m.\u001b[0m\u001b[0mlower\u001b[0m\u001b[1;33m(\u001b[0m\u001b[1;33m)\u001b[0m\u001b[1;33m)\u001b[0m\u001b[1;33m\u001b[0m\u001b[1;33m\u001b[0m\u001b[0m\n",
      "\u001b[1;31mNameError\u001b[0m: name 'df' is not defined"
     ]
    }
   ],
   "source": [
    "#making all the letters to lowercase\n",
    "df[\"text\"] = df[\"text\"].apply(lambda x: x.lower())\n",
    "df1[\"text\"] = df1[\"text\"].apply(lambda x: x.lower())"
   ]
  },
  {
   "cell_type": "code",
   "execution_count": 5,
   "id": "b10e3e7a",
   "metadata": {
    "execution": {
     "iopub.execute_input": "2022-04-29T13:32:37.952219Z",
     "iopub.status.busy": "2022-04-29T13:32:37.951670Z",
     "iopub.status.idle": "2022-04-29T13:32:37.955690Z",
     "shell.execute_reply": "2022-04-29T13:32:37.954927Z"
    },
    "papermill": {
     "duration": 0.051458,
     "end_time": "2022-04-29T13:32:37.957875",
     "exception": false,
     "start_time": "2022-04-29T13:32:37.906417",
     "status": "completed"
    },
    "tags": []
   },
   "outputs": [],
   "source": [
    "import re"
   ]
  },
  {
   "cell_type": "code",
   "execution_count": 7,
   "id": "0adc99da",
   "metadata": {
    "execution": {
     "iopub.execute_input": "2022-04-29T13:32:38.044305Z",
     "iopub.status.busy": "2022-04-29T13:32:38.043796Z",
     "iopub.status.idle": "2022-04-29T13:32:38.100321Z",
     "shell.execute_reply": "2022-04-29T13:32:38.099387Z"
    },
    "papermill": {
     "duration": 0.101785,
     "end_time": "2022-04-29T13:32:38.102659",
     "exception": false,
     "start_time": "2022-04-29T13:32:38.000874",
     "status": "completed"
    },
    "tags": []
   },
   "outputs": [],
   "source": [
    "def remove_URL(text):\n",
    "    return re.sub(r\"https?://\\S+|www\\.\\S+\", \"\", text)\n",
    "\n",
    "df[\"text\"] = df[\"text\"].apply(lambda x: remove_URL(x))\n",
    "df1[\"text\"] = df1[\"text\"].apply(lambda x: remove_URL(x))"
   ]
  },
  {
   "cell_type": "code",
   "execution_count": 8,
   "id": "00de236a",
   "metadata": {
    "execution": {
     "iopub.execute_input": "2022-04-29T13:32:38.188167Z",
     "iopub.status.busy": "2022-04-29T13:32:38.187133Z",
     "iopub.status.idle": "2022-04-29T13:32:38.253681Z",
     "shell.execute_reply": "2022-04-29T13:32:38.252900Z"
    },
    "papermill": {
     "duration": 0.111754,
     "end_time": "2022-04-29T13:32:38.256202",
     "exception": false,
     "start_time": "2022-04-29T13:32:38.144448",
     "status": "completed"
    },
    "tags": []
   },
   "outputs": [],
   "source": [
    "def remove_html(text):\n",
    "    html = re.compile(r\"<.*?>|&([a-z0-9]+|#[0-9]{1,6}|#x[0-9a-f]{1,6});\")\n",
    "    return re.sub(html, \"\", text)\n",
    "\n",
    "df[\"text\"] = df[\"text\"].apply(lambda x: remove_html(x))\n",
    "df1[\"text\"] = df1[\"text\"].apply(lambda x: remove_html(x))"
   ]
  },
  {
   "cell_type": "code",
   "execution_count": 9,
   "id": "c080f0e8",
   "metadata": {
    "execution": {
     "iopub.execute_input": "2022-04-29T13:32:38.341748Z",
     "iopub.status.busy": "2022-04-29T13:32:38.341442Z",
     "iopub.status.idle": "2022-04-29T13:32:38.411498Z",
     "shell.execute_reply": "2022-04-29T13:32:38.410559Z"
    },
    "papermill": {
     "duration": 0.11656,
     "end_time": "2022-04-29T13:32:38.414074",
     "exception": false,
     "start_time": "2022-04-29T13:32:38.297514",
     "status": "completed"
    },
    "tags": []
   },
   "outputs": [],
   "source": [
    "import string\n",
    "def remove_punct(text):\n",
    "    return text.translate(str.maketrans('', '', string.punctuation))\n",
    "\n",
    "\n",
    "df[\"text\"] = df[\"text\"].apply(lambda x: remove_punct(x))\n",
    "df1[\"text\"] = df1[\"text\"].apply(lambda x: remove_punct(x))"
   ]
  },
  {
   "cell_type": "code",
   "execution_count": 10,
   "id": "e72136e4",
   "metadata": {
    "execution": {
     "iopub.execute_input": "2022-04-29T13:32:38.504864Z",
     "iopub.status.busy": "2022-04-29T13:32:38.504397Z",
     "iopub.status.idle": "2022-04-29T13:32:38.516754Z",
     "shell.execute_reply": "2022-04-29T13:32:38.515724Z"
    },
    "papermill": {
     "duration": 0.062809,
     "end_time": "2022-04-29T13:32:38.519044",
     "exception": false,
     "start_time": "2022-04-29T13:32:38.456235",
     "status": "completed"
    },
    "tags": []
   },
   "outputs": [
    {
     "data": {
      "text/plain": [
       "id             0\n",
       "keyword       61\n",
       "location    2533\n",
       "text           0\n",
       "target         0\n",
       "dtype: int64"
      ]
     },
     "execution_count": 10,
     "metadata": {},
     "output_type": "execute_result"
    }
   ],
   "source": [
    "df.isnull().sum()"
   ]
  },
  {
   "cell_type": "code",
   "execution_count": 11,
   "id": "e600c0fa",
   "metadata": {
    "execution": {
     "iopub.execute_input": "2022-04-29T13:32:38.607677Z",
     "iopub.status.busy": "2022-04-29T13:32:38.607161Z",
     "iopub.status.idle": "2022-04-29T13:32:38.616561Z",
     "shell.execute_reply": "2022-04-29T13:32:38.615751Z"
    },
    "papermill": {
     "duration": 0.054747,
     "end_time": "2022-04-29T13:32:38.618732",
     "exception": false,
     "start_time": "2022-04-29T13:32:38.563985",
     "status": "completed"
    },
    "tags": []
   },
   "outputs": [
    {
     "data": {
      "text/plain": [
       "id             0\n",
       "keyword       26\n",
       "location    1105\n",
       "text           0\n",
       "dtype: int64"
      ]
     },
     "execution_count": 11,
     "metadata": {},
     "output_type": "execute_result"
    }
   ],
   "source": [
    "df1.isnull().sum()"
   ]
  },
  {
   "cell_type": "code",
   "execution_count": 12,
   "id": "8f68b3e1",
   "metadata": {
    "execution": {
     "iopub.execute_input": "2022-04-29T13:32:38.707415Z",
     "iopub.status.busy": "2022-04-29T13:32:38.706834Z",
     "iopub.status.idle": "2022-04-29T13:32:38.718792Z",
     "shell.execute_reply": "2022-04-29T13:32:38.717976Z"
    },
    "papermill": {
     "duration": 0.057767,
     "end_time": "2022-04-29T13:32:38.721090",
     "exception": false,
     "start_time": "2022-04-29T13:32:38.663323",
     "status": "completed"
    },
    "tags": []
   },
   "outputs": [],
   "source": [
    "df = df.drop('keyword', axis=1)\n",
    "df1 = df1.drop('keyword', axis=1)"
   ]
  },
  {
   "cell_type": "code",
   "execution_count": 13,
   "id": "7466b6c9",
   "metadata": {
    "execution": {
     "iopub.execute_input": "2022-04-29T13:32:38.814326Z",
     "iopub.status.busy": "2022-04-29T13:32:38.813761Z",
     "iopub.status.idle": "2022-04-29T13:32:38.822498Z",
     "shell.execute_reply": "2022-04-29T13:32:38.821716Z"
    },
    "papermill": {
     "duration": 0.056636,
     "end_time": "2022-04-29T13:32:38.824819",
     "exception": false,
     "start_time": "2022-04-29T13:32:38.768183",
     "status": "completed"
    },
    "tags": []
   },
   "outputs": [],
   "source": [
    "df = df.drop('location', axis=1)\n",
    "df1 = df1.drop('location', axis=1)"
   ]
  },
  {
   "cell_type": "code",
   "execution_count": 14,
   "id": "390e8288",
   "metadata": {
    "execution": {
     "iopub.execute_input": "2022-04-29T13:32:38.911301Z",
     "iopub.status.busy": "2022-04-29T13:32:38.911021Z",
     "iopub.status.idle": "2022-04-29T13:32:41.876515Z",
     "shell.execute_reply": "2022-04-29T13:32:41.875626Z"
    },
    "papermill": {
     "duration": 3.011586,
     "end_time": "2022-04-29T13:32:41.879002",
     "exception": false,
     "start_time": "2022-04-29T13:32:38.867416",
     "status": "completed"
    },
    "tags": []
   },
   "outputs": [],
   "source": [
    "import nltk\n",
    "from nltk import TweetTokenizer\n",
    "\n",
    "tokenizer = TweetTokenizer()\n",
    "\n",
    "df['tokens'] = [tokenizer.tokenize(item) for item in df.text]\n",
    "df1['tokens'] = [tokenizer.tokenize(item) for item in df1.text]"
   ]
  },
  {
   "cell_type": "code",
   "execution_count": 15,
   "id": "a950d55a",
   "metadata": {
    "execution": {
     "iopub.execute_input": "2022-04-29T13:32:41.967183Z",
     "iopub.status.busy": "2022-04-29T13:32:41.966606Z",
     "iopub.status.idle": "2022-04-29T13:32:44.964143Z",
     "shell.execute_reply": "2022-04-29T13:32:44.963038Z"
    },
    "papermill": {
     "duration": 3.044769,
     "end_time": "2022-04-29T13:32:44.966479",
     "exception": false,
     "start_time": "2022-04-29T13:32:41.921710",
     "status": "completed"
    },
    "tags": []
   },
   "outputs": [],
   "source": [
    "from nltk.stem import WordNetLemmatizer\n",
    "\n",
    "lemmatizer = WordNetLemmatizer()\n",
    "\n",
    "def lemmatize_item(item):\n",
    "    new_item = []\n",
    "    for x in item:\n",
    "        x = lemmatizer.lemmatize(x)\n",
    "        new_item.append(x)\n",
    "    return \" \".join(new_item)\n",
    "\n",
    "df['tokens'] = [lemmatize_item(item) for item in df.tokens]\n",
    "df1['tokens'] = [lemmatize_item(item) for item in df1.tokens]"
   ]
  },
  {
   "cell_type": "code",
   "execution_count": 16,
   "id": "a239d25a",
   "metadata": {
    "execution": {
     "iopub.execute_input": "2022-04-29T13:32:45.052494Z",
     "iopub.status.busy": "2022-04-29T13:32:45.051886Z",
     "iopub.status.idle": "2022-04-29T13:32:45.458296Z",
     "shell.execute_reply": "2022-04-29T13:32:45.457397Z"
    },
    "papermill": {
     "duration": 0.45227,
     "end_time": "2022-04-29T13:32:45.460809",
     "exception": false,
     "start_time": "2022-04-29T13:32:45.008539",
     "status": "completed"
    },
    "tags": []
   },
   "outputs": [],
   "source": [
    "from sklearn.feature_extraction.text import CountVectorizer\n",
    "\n",
    "vectorizer = CountVectorizer()\n",
    "\n",
    "\n",
    "X = vectorizer.fit_transform(df.text).toarray()\n",
    "y = df['target']"
   ]
  },
  {
   "cell_type": "code",
   "execution_count": 17,
   "id": "35191a7a",
   "metadata": {
    "execution": {
     "iopub.execute_input": "2022-04-29T13:32:45.546812Z",
     "iopub.status.busy": "2022-04-29T13:32:45.546455Z",
     "iopub.status.idle": "2022-04-29T13:32:46.225844Z",
     "shell.execute_reply": "2022-04-29T13:32:46.224903Z"
    },
    "papermill": {
     "duration": 0.725045,
     "end_time": "2022-04-29T13:32:46.228318",
     "exception": false,
     "start_time": "2022-04-29T13:32:45.503273",
     "status": "completed"
    },
    "tags": []
   },
   "outputs": [],
   "source": [
    "from sklearn.model_selection import train_test_split\n",
    "X_train, X_test, y_train, y_test = train_test_split(X, y, test_size = 0.3, random_state = 0)"
   ]
  },
  {
   "cell_type": "code",
   "execution_count": null,
   "id": "14d10e49",
   "metadata": {
    "papermill": {
     "duration": 0.041468,
     "end_time": "2022-04-29T13:32:46.311320",
     "exception": false,
     "start_time": "2022-04-29T13:32:46.269852",
     "status": "completed"
    },
    "tags": []
   },
   "outputs": [],
   "source": []
  },
  {
   "cell_type": "code",
   "execution_count": 18,
   "id": "552bf01d",
   "metadata": {
    "execution": {
     "iopub.execute_input": "2022-04-29T13:32:46.396518Z",
     "iopub.status.busy": "2022-04-29T13:32:46.396232Z",
     "iopub.status.idle": "2022-04-29T13:32:47.745646Z",
     "shell.execute_reply": "2022-04-29T13:32:47.744202Z"
    },
    "papermill": {
     "duration": 1.396631,
     "end_time": "2022-04-29T13:32:47.749748",
     "exception": false,
     "start_time": "2022-04-29T13:32:46.353117",
     "status": "completed"
    },
    "tags": []
   },
   "outputs": [],
   "source": [
    "from sklearn.naive_bayes import MultinomialNB\n",
    "mb = MultinomialNB()\n",
    "mb.fit(X_train,y_train)\n",
    "y_pred_MNB = mb.predict(X_test)"
   ]
  },
  {
   "cell_type": "code",
   "execution_count": 19,
   "id": "f87f26e6",
   "metadata": {
    "execution": {
     "iopub.execute_input": "2022-04-29T13:32:47.889770Z",
     "iopub.status.busy": "2022-04-29T13:32:47.889435Z",
     "iopub.status.idle": "2022-04-29T13:32:47.894080Z",
     "shell.execute_reply": "2022-04-29T13:32:47.892910Z"
    },
    "papermill": {
     "duration": 0.064178,
     "end_time": "2022-04-29T13:32:47.896336",
     "exception": false,
     "start_time": "2022-04-29T13:32:47.832158",
     "status": "completed"
    },
    "tags": []
   },
   "outputs": [],
   "source": [
    "from sklearn.metrics import accuracy_score, classification_report, confusion_matrix"
   ]
  },
  {
   "cell_type": "code",
   "execution_count": 20,
   "id": "6210a44d",
   "metadata": {
    "execution": {
     "iopub.execute_input": "2022-04-29T13:32:47.984645Z",
     "iopub.status.busy": "2022-04-29T13:32:47.984274Z",
     "iopub.status.idle": "2022-04-29T13:32:47.991105Z",
     "shell.execute_reply": "2022-04-29T13:32:47.989625Z"
    },
    "papermill": {
     "duration": 0.053836,
     "end_time": "2022-04-29T13:32:47.994627",
     "exception": false,
     "start_time": "2022-04-29T13:32:47.940791",
     "status": "completed"
    },
    "tags": []
   },
   "outputs": [
    {
     "name": "stdout",
     "output_type": "stream",
     "text": [
      "The accuracy of the model is : 0.8025394045534151\n"
     ]
    }
   ],
   "source": [
    "acc_MNB = accuracy_score(y_test,y_pred_MNB)\n",
    "print(\"The accuracy of the model is :\",acc_MNB)"
   ]
  },
  {
   "cell_type": "code",
   "execution_count": 21,
   "id": "30a51fbc",
   "metadata": {
    "execution": {
     "iopub.execute_input": "2022-04-29T13:32:48.087665Z",
     "iopub.status.busy": "2022-04-29T13:32:48.087026Z",
     "iopub.status.idle": "2022-04-29T13:32:48.096731Z",
     "shell.execute_reply": "2022-04-29T13:32:48.095695Z"
    },
    "papermill": {
     "duration": 0.059263,
     "end_time": "2022-04-29T13:32:48.099276",
     "exception": false,
     "start_time": "2022-04-29T13:32:48.040013",
     "status": "completed"
    },
    "tags": []
   },
   "outputs": [
    {
     "data": {
      "text/plain": [
       "array([[1157,  181],\n",
       "       [ 270,  676]])"
      ]
     },
     "execution_count": 21,
     "metadata": {},
     "output_type": "execute_result"
    }
   ],
   "source": [
    "cf_MNB = confusion_matrix(y_test,y_pred_MNB)\n",
    "cf_MNB\n"
   ]
  },
  {
   "cell_type": "code",
   "execution_count": 22,
   "id": "6d72d29c",
   "metadata": {
    "execution": {
     "iopub.execute_input": "2022-04-29T13:32:48.189759Z",
     "iopub.status.busy": "2022-04-29T13:32:48.189124Z",
     "iopub.status.idle": "2022-04-29T13:32:48.201605Z",
     "shell.execute_reply": "2022-04-29T13:32:48.200847Z"
    },
    "papermill": {
     "duration": 0.061971,
     "end_time": "2022-04-29T13:32:48.204332",
     "exception": false,
     "start_time": "2022-04-29T13:32:48.142361",
     "status": "completed"
    },
    "tags": []
   },
   "outputs": [
    {
     "name": "stdout",
     "output_type": "stream",
     "text": [
      "              precision    recall  f1-score   support\n",
      "\n",
      "           0       0.81      0.86      0.84      1338\n",
      "           1       0.79      0.71      0.75       946\n",
      "\n",
      "    accuracy                           0.80      2284\n",
      "   macro avg       0.80      0.79      0.79      2284\n",
      "weighted avg       0.80      0.80      0.80      2284\n",
      "\n"
     ]
    }
   ],
   "source": [
    "print(classification_report(y_test,y_pred_MNB))"
   ]
  },
  {
   "cell_type": "code",
   "execution_count": 23,
   "id": "2f5d86b9",
   "metadata": {
    "execution": {
     "iopub.execute_input": "2022-04-29T13:32:48.293394Z",
     "iopub.status.busy": "2022-04-29T13:32:48.292863Z",
     "iopub.status.idle": "2022-04-29T13:32:50.201515Z",
     "shell.execute_reply": "2022-04-29T13:32:50.200576Z"
    },
    "papermill": {
     "duration": 1.955466,
     "end_time": "2022-04-29T13:32:50.204199",
     "exception": false,
     "start_time": "2022-04-29T13:32:48.248733",
     "status": "completed"
    },
    "tags": []
   },
   "outputs": [],
   "source": [
    "from sklearn.preprocessing import StandardScaler \n",
    "ss=StandardScaler() \n",
    "X_train_ss=ss.fit_transform(X_train)\n",
    "X_test_ss=ss.transform(X_test)"
   ]
  },
  {
   "cell_type": "code",
   "execution_count": 24,
   "id": "bc4f8208",
   "metadata": {
    "execution": {
     "iopub.execute_input": "2022-04-29T13:32:50.296429Z",
     "iopub.status.busy": "2022-04-29T13:32:50.296088Z",
     "iopub.status.idle": "2022-04-29T13:33:04.941313Z",
     "shell.execute_reply": "2022-04-29T13:33:04.940263Z"
    },
    "papermill": {
     "duration": 14.696015,
     "end_time": "2022-04-29T13:33:04.944731",
     "exception": false,
     "start_time": "2022-04-29T13:32:50.248716",
     "status": "completed"
    },
    "tags": []
   },
   "outputs": [
    {
     "data": {
      "text/plain": [
       "LogisticRegression()"
      ]
     },
     "execution_count": 24,
     "metadata": {},
     "output_type": "execute_result"
    }
   ],
   "source": [
    "from sklearn.linear_model import LogisticRegression\n",
    "lr=LogisticRegression()\n",
    "lr_model=lr.fit(X_train_ss,y_train)\n",
    "lr_model"
   ]
  },
  {
   "cell_type": "code",
   "execution_count": 25,
   "id": "a9dc740c",
   "metadata": {
    "execution": {
     "iopub.execute_input": "2022-04-29T13:33:05.099723Z",
     "iopub.status.busy": "2022-04-29T13:33:05.099423Z",
     "iopub.status.idle": "2022-04-29T13:33:05.152156Z",
     "shell.execute_reply": "2022-04-29T13:33:05.150699Z"
    },
    "papermill": {
     "duration": 0.102018,
     "end_time": "2022-04-29T13:33:05.156277",
     "exception": false,
     "start_time": "2022-04-29T13:33:05.054259",
     "status": "completed"
    },
    "tags": []
   },
   "outputs": [],
   "source": [
    "lr_y_pred=lr_model.predict(X_test_ss)"
   ]
  },
  {
   "cell_type": "code",
   "execution_count": 26,
   "id": "66cb3ec1",
   "metadata": {
    "execution": {
     "iopub.execute_input": "2022-04-29T13:33:05.299786Z",
     "iopub.status.busy": "2022-04-29T13:33:05.299463Z",
     "iopub.status.idle": "2022-04-29T13:33:05.307332Z",
     "shell.execute_reply": "2022-04-29T13:33:05.306560Z"
    },
    "papermill": {
     "duration": 0.069242,
     "end_time": "2022-04-29T13:33:05.309364",
     "exception": false,
     "start_time": "2022-04-29T13:33:05.240122",
     "status": "completed"
    },
    "tags": []
   },
   "outputs": [
    {
     "data": {
      "text/plain": [
       "0.7788966725043783"
      ]
     },
     "execution_count": 26,
     "metadata": {},
     "output_type": "execute_result"
    }
   ],
   "source": [
    "from sklearn.metrics import accuracy_score\n",
    "log_acc=accuracy_score(y_test,lr_y_pred)\n",
    "log_acc"
   ]
  },
  {
   "cell_type": "code",
   "execution_count": 27,
   "id": "e03ab7aa",
   "metadata": {
    "execution": {
     "iopub.execute_input": "2022-04-29T13:33:05.399318Z",
     "iopub.status.busy": "2022-04-29T13:33:05.399049Z",
     "iopub.status.idle": "2022-04-29T13:33:17.400706Z",
     "shell.execute_reply": "2022-04-29T13:33:17.399789Z"
    },
    "papermill": {
     "duration": 12.051162,
     "end_time": "2022-04-29T13:33:17.404064",
     "exception": false,
     "start_time": "2022-04-29T13:33:05.352902",
     "status": "completed"
    },
    "tags": []
   },
   "outputs": [
    {
     "data": {
      "text/plain": [
       "LogisticRegression()"
      ]
     },
     "execution_count": 27,
     "metadata": {},
     "output_type": "execute_result"
    }
   ],
   "source": [
    "from sklearn.linear_model import LogisticRegression\n",
    "lr=LogisticRegression()\n",
    "lr_model=lr.fit(X_train,y_train)\n",
    "lr_model"
   ]
  },
  {
   "cell_type": "code",
   "execution_count": 28,
   "id": "c10e5b87",
   "metadata": {
    "execution": {
     "iopub.execute_input": "2022-04-29T13:33:17.553190Z",
     "iopub.status.busy": "2022-04-29T13:33:17.552913Z",
     "iopub.status.idle": "2022-04-29T13:33:17.717340Z",
     "shell.execute_reply": "2022-04-29T13:33:17.716012Z"
    },
    "papermill": {
     "duration": 0.213119,
     "end_time": "2022-04-29T13:33:17.720491",
     "exception": false,
     "start_time": "2022-04-29T13:33:17.507372",
     "status": "completed"
    },
    "tags": []
   },
   "outputs": [],
   "source": [
    "lr_y_pred=lr_model.predict(X_test)"
   ]
  },
  {
   "cell_type": "code",
   "execution_count": 29,
   "id": "c14c32c3",
   "metadata": {
    "execution": {
     "iopub.execute_input": "2022-04-29T13:33:17.866867Z",
     "iopub.status.busy": "2022-04-29T13:33:17.866596Z",
     "iopub.status.idle": "2022-04-29T13:33:17.874268Z",
     "shell.execute_reply": "2022-04-29T13:33:17.873628Z"
    },
    "papermill": {
     "duration": 0.070943,
     "end_time": "2022-04-29T13:33:17.876257",
     "exception": false,
     "start_time": "2022-04-29T13:33:17.805314",
     "status": "completed"
    },
    "tags": []
   },
   "outputs": [
    {
     "data": {
      "text/plain": [
       "0.8025394045534151"
      ]
     },
     "execution_count": 29,
     "metadata": {},
     "output_type": "execute_result"
    }
   ],
   "source": [
    "from sklearn.metrics import accuracy_score\n",
    "log_acc=accuracy_score(y_test,lr_y_pred)\n",
    "log_acc"
   ]
  },
  {
   "cell_type": "code",
   "execution_count": 30,
   "id": "38e4e98e",
   "metadata": {
    "execution": {
     "iopub.execute_input": "2022-04-29T13:33:17.971752Z",
     "iopub.status.busy": "2022-04-29T13:33:17.971322Z",
     "iopub.status.idle": "2022-04-29T13:37:10.109661Z",
     "shell.execute_reply": "2022-04-29T13:37:10.108267Z"
    },
    "papermill": {
     "duration": 232.261979,
     "end_time": "2022-04-29T13:37:10.184648",
     "exception": false,
     "start_time": "2022-04-29T13:33:17.922669",
     "status": "completed"
    },
    "tags": []
   },
   "outputs": [
    {
     "data": {
      "text/plain": [
       "0.760507880910683"
      ]
     },
     "execution_count": 30,
     "metadata": {},
     "output_type": "execute_result"
    }
   ],
   "source": [
    "from sklearn.svm import LinearSVC\n",
    "LinSVC=LinearSVC()\n",
    "model_SVC=LinSVC.fit(X_train_ss,y_train)\n",
    "LinSVC_y_pred=model_SVC.predict(X_test_ss)\n",
    "LinSVC_acc=accuracy_score(y_test,LinSVC_y_pred)\n",
    "LinSVC_acc"
   ]
  },
  {
   "cell_type": "code",
   "execution_count": 31,
   "id": "5e7b1fc8",
   "metadata": {
    "execution": {
     "iopub.execute_input": "2022-04-29T13:37:10.288420Z",
     "iopub.status.busy": "2022-04-29T13:37:10.288126Z",
     "iopub.status.idle": "2022-04-29T13:37:18.469292Z",
     "shell.execute_reply": "2022-04-29T13:37:18.468319Z"
    },
    "papermill": {
     "duration": 8.232758,
     "end_time": "2022-04-29T13:37:18.471591",
     "exception": false,
     "start_time": "2022-04-29T13:37:10.238833",
     "status": "completed"
    },
    "tags": []
   },
   "outputs": [
    {
     "data": {
      "text/plain": [
       "0.6571803852889667"
      ]
     },
     "execution_count": 31,
     "metadata": {},
     "output_type": "execute_result"
    }
   ],
   "source": [
    "from sklearn.neighbors import KNeighborsClassifier\n",
    "knn=KNeighborsClassifier()\n",
    "knn_model=knn.fit(X_train_ss,y_train)\n",
    "knn_y_pred=knn_model.predict(X_test_ss)\n",
    "knn_acc=accuracy_score(y_test,knn_y_pred)\n",
    "knn_acc"
   ]
  },
  {
   "cell_type": "code",
   "execution_count": 32,
   "id": "9c8c8e11",
   "metadata": {
    "execution": {
     "iopub.execute_input": "2022-04-29T13:37:18.564415Z",
     "iopub.status.busy": "2022-04-29T13:37:18.563600Z",
     "iopub.status.idle": "2022-04-29T13:37:18.567071Z",
     "shell.execute_reply": "2022-04-29T13:37:18.566441Z"
    },
    "papermill": {
     "duration": 0.051891,
     "end_time": "2022-04-29T13:37:18.568946",
     "exception": false,
     "start_time": "2022-04-29T13:37:18.517055",
     "status": "completed"
    },
    "tags": []
   },
   "outputs": [],
   "source": [
    "#multinomialNB gives better accuracy"
   ]
  },
  {
   "cell_type": "code",
   "execution_count": 33,
   "id": "db957256",
   "metadata": {
    "execution": {
     "iopub.execute_input": "2022-04-29T13:37:18.662479Z",
     "iopub.status.busy": "2022-04-29T13:37:18.662044Z",
     "iopub.status.idle": "2022-04-29T13:37:18.675042Z",
     "shell.execute_reply": "2022-04-29T13:37:18.674308Z"
    },
    "papermill": {
     "duration": 0.061833,
     "end_time": "2022-04-29T13:37:18.677274",
     "exception": false,
     "start_time": "2022-04-29T13:37:18.615441",
     "status": "completed"
    },
    "tags": []
   },
   "outputs": [],
   "source": [
    "sub = pd.read_csv(\"/kaggle/input/nlp-getting-started/sample_submission.csv\")"
   ]
  },
  {
   "cell_type": "code",
   "execution_count": 34,
   "id": "552f9112",
   "metadata": {
    "execution": {
     "iopub.execute_input": "2022-04-29T13:37:18.771009Z",
     "iopub.status.busy": "2022-04-29T13:37:18.770453Z",
     "iopub.status.idle": "2022-04-29T13:37:18.778457Z",
     "shell.execute_reply": "2022-04-29T13:37:18.777827Z"
    },
    "papermill": {
     "duration": 0.057402,
     "end_time": "2022-04-29T13:37:18.780462",
     "exception": false,
     "start_time": "2022-04-29T13:37:18.723060",
     "status": "completed"
    },
    "tags": []
   },
   "outputs": [
    {
     "data": {
      "text/html": [
       "<div>\n",
       "<style scoped>\n",
       "    .dataframe tbody tr th:only-of-type {\n",
       "        vertical-align: middle;\n",
       "    }\n",
       "\n",
       "    .dataframe tbody tr th {\n",
       "        vertical-align: top;\n",
       "    }\n",
       "\n",
       "    .dataframe thead th {\n",
       "        text-align: right;\n",
       "    }\n",
       "</style>\n",
       "<table border=\"1\" class=\"dataframe\">\n",
       "  <thead>\n",
       "    <tr style=\"text-align: right;\">\n",
       "      <th></th>\n",
       "      <th>id</th>\n",
       "      <th>target</th>\n",
       "    </tr>\n",
       "  </thead>\n",
       "  <tbody>\n",
       "    <tr>\n",
       "      <th>0</th>\n",
       "      <td>0</td>\n",
       "      <td>0</td>\n",
       "    </tr>\n",
       "    <tr>\n",
       "      <th>1</th>\n",
       "      <td>2</td>\n",
       "      <td>0</td>\n",
       "    </tr>\n",
       "    <tr>\n",
       "      <th>2</th>\n",
       "      <td>3</td>\n",
       "      <td>0</td>\n",
       "    </tr>\n",
       "    <tr>\n",
       "      <th>3</th>\n",
       "      <td>9</td>\n",
       "      <td>0</td>\n",
       "    </tr>\n",
       "    <tr>\n",
       "      <th>4</th>\n",
       "      <td>11</td>\n",
       "      <td>0</td>\n",
       "    </tr>\n",
       "  </tbody>\n",
       "</table>\n",
       "</div>"
      ],
      "text/plain": [
       "   id  target\n",
       "0   0       0\n",
       "1   2       0\n",
       "2   3       0\n",
       "3   9       0\n",
       "4  11       0"
      ]
     },
     "execution_count": 34,
     "metadata": {},
     "output_type": "execute_result"
    }
   ],
   "source": [
    "sub.head()"
   ]
  },
  {
   "cell_type": "code",
   "execution_count": 35,
   "id": "aa2e36b2",
   "metadata": {
    "execution": {
     "iopub.execute_input": "2022-04-29T13:37:18.876106Z",
     "iopub.status.busy": "2022-04-29T13:37:18.875580Z",
     "iopub.status.idle": "2022-04-29T13:37:19.012226Z",
     "shell.execute_reply": "2022-04-29T13:37:19.011604Z"
    },
    "papermill": {
     "duration": 0.18713,
     "end_time": "2022-04-29T13:37:19.014505",
     "exception": false,
     "start_time": "2022-04-29T13:37:18.827375",
     "status": "completed"
    },
    "tags": []
   },
   "outputs": [],
   "source": [
    "test = vectorizer.transform(df1.text).toarray()"
   ]
  },
  {
   "cell_type": "code",
   "execution_count": 36,
   "id": "a8a9d275",
   "metadata": {
    "execution": {
     "iopub.execute_input": "2022-04-29T13:37:19.112233Z",
     "iopub.status.busy": "2022-04-29T13:37:19.111925Z",
     "iopub.status.idle": "2022-04-29T13:37:19.396232Z",
     "shell.execute_reply": "2022-04-29T13:37:19.395162Z"
    },
    "papermill": {
     "duration": 0.336406,
     "end_time": "2022-04-29T13:37:19.400086",
     "exception": false,
     "start_time": "2022-04-29T13:37:19.063680",
     "status": "completed"
    },
    "tags": []
   },
   "outputs": [],
   "source": [
    "pred_1 = mb.predict(test)"
   ]
  },
  {
   "cell_type": "code",
   "execution_count": 37,
   "id": "b4e68f7f",
   "metadata": {
    "execution": {
     "iopub.execute_input": "2022-04-29T13:37:19.550477Z",
     "iopub.status.busy": "2022-04-29T13:37:19.550155Z",
     "iopub.status.idle": "2022-04-29T13:37:19.565343Z",
     "shell.execute_reply": "2022-04-29T13:37:19.564624Z"
    },
    "papermill": {
     "duration": 0.076627,
     "end_time": "2022-04-29T13:37:19.567651",
     "exception": false,
     "start_time": "2022-04-29T13:37:19.491024",
     "status": "completed"
    },
    "tags": []
   },
   "outputs": [],
   "source": [
    "sub['target'] = pred_1\n",
    "sub.to_csv('submission.csv',index=False)"
   ]
  },
  {
   "cell_type": "code",
   "execution_count": 38,
   "id": "c324b635",
   "metadata": {
    "execution": {
     "iopub.execute_input": "2022-04-29T13:37:19.665540Z",
     "iopub.status.busy": "2022-04-29T13:37:19.664948Z",
     "iopub.status.idle": "2022-04-29T13:37:19.678969Z",
     "shell.execute_reply": "2022-04-29T13:37:19.678036Z"
    },
    "papermill": {
     "duration": 0.067268,
     "end_time": "2022-04-29T13:37:19.681421",
     "exception": false,
     "start_time": "2022-04-29T13:37:19.614153",
     "status": "completed"
    },
    "tags": []
   },
   "outputs": [
    {
     "data": {
      "text/html": [
       "<div>\n",
       "<style scoped>\n",
       "    .dataframe tbody tr th:only-of-type {\n",
       "        vertical-align: middle;\n",
       "    }\n",
       "\n",
       "    .dataframe tbody tr th {\n",
       "        vertical-align: top;\n",
       "    }\n",
       "\n",
       "    .dataframe thead th {\n",
       "        text-align: right;\n",
       "    }\n",
       "</style>\n",
       "<table border=\"1\" class=\"dataframe\">\n",
       "  <thead>\n",
       "    <tr style=\"text-align: right;\">\n",
       "      <th></th>\n",
       "      <th>id</th>\n",
       "      <th>target</th>\n",
       "    </tr>\n",
       "  </thead>\n",
       "  <tbody>\n",
       "    <tr>\n",
       "      <th>0</th>\n",
       "      <td>0</td>\n",
       "      <td>1</td>\n",
       "    </tr>\n",
       "    <tr>\n",
       "      <th>1</th>\n",
       "      <td>2</td>\n",
       "      <td>0</td>\n",
       "    </tr>\n",
       "    <tr>\n",
       "      <th>2</th>\n",
       "      <td>3</td>\n",
       "      <td>1</td>\n",
       "    </tr>\n",
       "    <tr>\n",
       "      <th>3</th>\n",
       "      <td>9</td>\n",
       "      <td>1</td>\n",
       "    </tr>\n",
       "    <tr>\n",
       "      <th>4</th>\n",
       "      <td>11</td>\n",
       "      <td>1</td>\n",
       "    </tr>\n",
       "    <tr>\n",
       "      <th>...</th>\n",
       "      <td>...</td>\n",
       "      <td>...</td>\n",
       "    </tr>\n",
       "    <tr>\n",
       "      <th>3258</th>\n",
       "      <td>10861</td>\n",
       "      <td>1</td>\n",
       "    </tr>\n",
       "    <tr>\n",
       "      <th>3259</th>\n",
       "      <td>10865</td>\n",
       "      <td>1</td>\n",
       "    </tr>\n",
       "    <tr>\n",
       "      <th>3260</th>\n",
       "      <td>10868</td>\n",
       "      <td>1</td>\n",
       "    </tr>\n",
       "    <tr>\n",
       "      <th>3261</th>\n",
       "      <td>10874</td>\n",
       "      <td>1</td>\n",
       "    </tr>\n",
       "    <tr>\n",
       "      <th>3262</th>\n",
       "      <td>10875</td>\n",
       "      <td>1</td>\n",
       "    </tr>\n",
       "  </tbody>\n",
       "</table>\n",
       "<p>3263 rows × 2 columns</p>\n",
       "</div>"
      ],
      "text/plain": [
       "         id  target\n",
       "0         0       1\n",
       "1         2       0\n",
       "2         3       1\n",
       "3         9       1\n",
       "4        11       1\n",
       "...     ...     ...\n",
       "3258  10861       1\n",
       "3259  10865       1\n",
       "3260  10868       1\n",
       "3261  10874       1\n",
       "3262  10875       1\n",
       "\n",
       "[3263 rows x 2 columns]"
      ]
     },
     "execution_count": 38,
     "metadata": {},
     "output_type": "execute_result"
    }
   ],
   "source": [
    "r =pd.read_csv(\"submission.csv\")\n",
    "r"
   ]
  },
  {
   "cell_type": "code",
   "execution_count": null,
   "id": "6d91b87c",
   "metadata": {
    "papermill": {
     "duration": 0.046534,
     "end_time": "2022-04-29T13:37:19.776832",
     "exception": false,
     "start_time": "2022-04-29T13:37:19.730298",
     "status": "completed"
    },
    "tags": []
   },
   "outputs": [],
   "source": []
  }
 ],
 "metadata": {
  "kernelspec": {
   "display_name": "Python 3",
   "language": "python",
   "name": "python3"
  },
  "language_info": {
   "codemirror_mode": {
    "name": "ipython",
    "version": 3
   },
   "file_extension": ".py",
   "mimetype": "text/x-python",
   "name": "python",
   "nbconvert_exporter": "python",
   "pygments_lexer": "ipython3",
   "version": "3.8.8"
  },
  "papermill": {
   "default_parameters": {},
   "duration": 294.592209,
   "end_time": "2022-04-29T13:37:20.953347",
   "environment_variables": {},
   "exception": null,
   "input_path": "__notebook__.ipynb",
   "output_path": "__notebook__.ipynb",
   "parameters": {},
   "start_time": "2022-04-29T13:32:26.361138",
   "version": "2.3.4"
  }
 },
 "nbformat": 4,
 "nbformat_minor": 5
}
